{
 "cells": [
  {
   "cell_type": "code",
   "execution_count": 1,
   "id": "0fa0d827",
   "metadata": {},
   "outputs": [],
   "source": [
    "import os\n",
    "\n",
    "os.environ[\"DJANGO_SETTINGS_MODULE\"] = \"CreativeBlog.settings\"\n",
    "os.environ['DJANGO_ALLOW_ASYNC_UNSAFE'] = \"true\""
   ]
  },
  {
   "cell_type": "code",
   "execution_count": 2,
   "id": "25be5a39",
   "metadata": {},
   "outputs": [],
   "source": [
    "import django\n",
    "django.setup()"
   ]
  },
  {
   "cell_type": "code",
   "execution_count": 3,
   "id": "3c0c3adb",
   "metadata": {},
   "outputs": [],
   "source": [
    "from blog.models import Post"
   ]
  },
  {
   "cell_type": "code",
   "execution_count": 4,
   "id": "dd379d4b",
   "metadata": {},
   "outputs": [
    {
     "data": {
      "text/plain": [
       "<QuerySet [<Post: hello>, <Post: world>, <Post: 3>, <Post: 4>, <Post: 5>, <Post: 6>, <Post: HELLO>, <Post: post>, <Post: akls>, <Post: hello>, <Post: hello>]>"
      ]
     },
     "execution_count": 4,
     "metadata": {},
     "output_type": "execute_result"
    }
   ],
   "source": [
    "Post.objects.all()"
   ]
  },
  {
   "cell_type": "code",
   "execution_count": 5,
   "id": "54caf159",
   "metadata": {},
   "outputs": [
    {
     "name": "stdout",
     "output_type": "stream",
     "text": [
      "<class 'django.db.models.base.ModelBase'>\n"
     ]
    }
   ],
   "source": [
    "print(type(Post))"
   ]
  },
  {
   "cell_type": "code",
   "execution_count": 6,
   "id": "bbb36a89",
   "metadata": {},
   "outputs": [],
   "source": [
    "qs = Post.objects.all()"
   ]
  },
  {
   "cell_type": "code",
   "execution_count": 7,
   "id": "fae19dee",
   "metadata": {},
   "outputs": [
    {
     "name": "stdout",
     "output_type": "stream",
     "text": [
      "<class 'django.db.models.query.QuerySet'>\n"
     ]
    }
   ],
   "source": [
    "print(type(qs))"
   ]
  },
  {
   "cell_type": "code",
   "execution_count": 8,
   "id": "ea200034",
   "metadata": {},
   "outputs": [
    {
     "name": "stdout",
     "output_type": "stream",
     "text": [
      "SELECT \"blog_post\".\"id\", \"blog_post\".\"owner_id\", \"blog_post\".\"category_id\", \"blog_post\".\"title\", \"blog_post\".\"description\", \"blog_post\".\"image\", \"blog_post\".\"content\", \"blog_post\".\"create_dt\", \"blog_post\".\"update_dt\" FROM \"blog_post\"\n"
     ]
    }
   ],
   "source": [
    "print(qs.query)"
   ]
  },
  {
   "cell_type": "code",
   "execution_count": 24,
   "id": "12ea24e1",
   "metadata": {},
   "outputs": [],
   "source": [
    "qs = Post.objects.all().order_by('-id')[:1]"
   ]
  },
  {
   "cell_type": "code",
   "execution_count": 25,
   "id": "f77d874d",
   "metadata": {},
   "outputs": [
    {
     "name": "stdout",
     "output_type": "stream",
     "text": [
      "SELECT \"blog_post\".\"id\", \"blog_post\".\"owner_id\", \"blog_post\".\"category_id\", \"blog_post\".\"title\", \"blog_post\".\"description\", \"blog_post\".\"image\", \"blog_post\".\"content\", \"blog_post\".\"create_dt\", \"blog_post\".\"update_dt\" FROM \"blog_post\" ORDER BY \"blog_post\".\"id\" DESC LIMIT 1\n"
     ]
    }
   ],
   "source": [
    "print(qs.query)"
   ]
  },
  {
   "cell_type": "code",
   "execution_count": 27,
   "id": "695511ae",
   "metadata": {},
   "outputs": [
    {
     "name": "stdout",
     "output_type": "stream",
     "text": [
      "{'_state': <django.db.models.base.ModelState object at 0x7fe9095920d0>, 'id': 12, 'owner_id': 1, 'category_id': 2, 'title': 'hello', 'description': 'hello', 'image': 'blog/2022/03/4_r3q1ivp.jpg', 'content': 'HELLO', 'create_dt': datetime.datetime(2022, 3, 24, 0, 55, 45, 450211), 'update_dt': datetime.datetime(2022, 3, 24, 0, 55, 45, 450241)}\n"
     ]
    }
   ],
   "source": [
    "for q in qs:\n",
    "    print(q.__dict__)"
   ]
  },
  {
   "cell_type": "code",
   "execution_count": 31,
   "id": "62cc9706",
   "metadata": {},
   "outputs": [
    {
     "ename": "IndexError",
     "evalue": "Replacement index 0 out of range for positional args tuple",
     "output_type": "error",
     "traceback": [
      "\u001b[0;31m---------------------------------------------------------------------------\u001b[0m",
      "\u001b[0;31mIndexError\u001b[0m                                Traceback (most recent call last)",
      "Input \u001b[0;32mIn [31]\u001b[0m, in \u001b[0;36m<cell line: 1>\u001b[0;34m()\u001b[0m\n\u001b[1;32m      1\u001b[0m \u001b[38;5;28;01mfor\u001b[39;00m q \u001b[38;5;129;01min\u001b[39;00m qs:\n\u001b[0;32m----> 2\u001b[0m     \u001b[38;5;28mprint\u001b[39m(\u001b[38;5;124;43m\"\u001b[39;49m\u001b[38;5;124;43mid: \u001b[39;49m\u001b[38;5;132;43;01m{}\u001b[39;49;00m\u001b[38;5;124;43m, owner_id: \u001b[39;49m\u001b[38;5;132;43;01m{}\u001b[39;49;00m\u001b[38;5;124;43m, category_id: \u001b[39;49m\u001b[38;5;132;43;01m{}\u001b[39;49;00m\u001b[38;5;124;43m, title: \u001b[39;49m\u001b[38;5;132;43;01m{}\u001b[39;49;00m\u001b[38;5;124;43m, description: \u001b[39;49m\u001b[38;5;132;43;01m{}\u001b[39;49;00m\u001b[38;5;124;43m, image: \u001b[39;49m\u001b[38;5;132;43;01m{}\u001b[39;49;00m\u001b[38;5;124;43m, content: \u001b[39;49m\u001b[38;5;132;43;01m{}\u001b[39;49;00m\u001b[38;5;124;43m, create_dt: \u001b[39;49m\u001b[38;5;132;43;01m{}\u001b[39;49;00m\u001b[38;5;124;43m, update_dt: \u001b[39;49m\u001b[38;5;132;43;01m{}\u001b[39;49;00m\u001b[38;5;124;43m\"\u001b[39;49m\u001b[38;5;241;43m.\u001b[39;49m\u001b[43mformat\u001b[49m\u001b[43m(\u001b[49m\u001b[38;5;241;43m*\u001b[39;49m\u001b[38;5;241;43m*\u001b[39;49m\u001b[43mq\u001b[49m\u001b[38;5;241;43m.\u001b[39;49m\u001b[38;5;18;43m__dict__\u001b[39;49m\u001b[43m)\u001b[49m)\n",
      "\u001b[0;31mIndexError\u001b[0m: Replacement index 0 out of range for positional args tuple"
     ]
    }
   ],
   "source": [
    "for q in qs:\n",
    "    print(\"id: {}, owner_id: {}, category_id: {}, title: {}, description: {}, image: {}, content: {}, create_dt: {}, update_dt: {}\".format(**q.__dict__))"
   ]
  },
  {
   "cell_type": "code",
   "execution_count": 37,
   "id": "09eb68eb",
   "metadata": {},
   "outputs": [
    {
     "name": "stdout",
     "output_type": "stream",
     "text": [
      "id: 12 owner_id :1\n"
     ]
    }
   ],
   "source": [
    "for q in qs:\n",
    "    print(f\"id: {q.id} owner_id :{q.owner_id}\") \n",
    "#     print(\"id : {}\".format(**q.__dict__))\n",
    "#     owner_id: {}, category_id: {}, title: {}, description: {}, image: {}, content: {}, create_dt: {}, update_dt: {}\".format(**q.__dict__))"
   ]
  },
  {
   "cell_type": "code",
   "execution_count": 39,
   "id": "a592c622",
   "metadata": {},
   "outputs": [],
   "source": [
    "query = 'HELLO'\n",
    "\n",
    "qs = Post.objects.filter(content__icontains=query)"
   ]
  },
  {
   "cell_type": "code",
   "execution_count": 41,
   "id": "54245224",
   "metadata": {},
   "outputs": [
    {
     "name": "stdout",
     "output_type": "stream",
     "text": [
      "SELECT \"blog_post\".\"id\", \"blog_post\".\"owner_id\", \"blog_post\".\"category_id\", \"blog_post\".\"title\", \"blog_post\".\"description\", \"blog_post\".\"image\", \"blog_post\".\"content\", \"blog_post\".\"create_dt\", \"blog_post\".\"update_dt\" FROM \"blog_post\" WHERE \"blog_post\".\"content\" LIKE %HELLO% ESCAPE '\\'\n"
     ]
    }
   ],
   "source": [
    "print(qs.query)"
   ]
  },
  {
   "cell_type": "code",
   "execution_count": 64,
   "id": "822309f1",
   "metadata": {},
   "outputs": [],
   "source": [
    "qs = Post.objects.filter(content__icontains=query)\\\n",
    "    .order_by('-id')[:2]"
   ]
  },
  {
   "cell_type": "code",
   "execution_count": 65,
   "id": "a6232f18",
   "metadata": {},
   "outputs": [
    {
     "data": {
      "text/plain": [
       "<QuerySet [<Post: hello>, <Post: hello>]>"
      ]
     },
     "execution_count": 65,
     "metadata": {},
     "output_type": "execute_result"
    }
   ],
   "source": [
    "qs"
   ]
  },
  {
   "cell_type": "markdown",
   "id": "dec92335",
   "metadata": {},
   "source": [
    "조건을 추가한 Queryset, 획득할 준비"
   ]
  },
  {
   "cell_type": "code",
   "execution_count": 66,
   "id": "d40929f8",
   "metadata": {},
   "outputs": [
    {
     "data": {
      "text/plain": [
       "<QuerySet [<Post: hello>, <Post: hello>]>"
      ]
     },
     "execution_count": 66,
     "metadata": {},
     "output_type": "execute_result"
    }
   ],
   "source": [
    "qs.filter()"
   ]
  },
  {
   "cell_type": "code",
   "execution_count": 67,
   "id": "5fc1c8ea",
   "metadata": {},
   "outputs": [
    {
     "data": {
      "text/plain": [
       "<QuerySet [<Post: hello>, <Post: hello>]>"
      ]
     },
     "execution_count": 67,
     "metadata": {},
     "output_type": "execute_result"
    }
   ],
   "source": [
    "qs.exclude()"
   ]
  },
  {
   "cell_type": "markdown",
   "id": "3e23b0af",
   "metadata": {},
   "source": [
    "특정 모델 객체 1개 획득을 시도"
   ]
  },
  {
   "cell_type": "code",
   "execution_count": 68,
   "id": "2419b314",
   "metadata": {},
   "outputs": [],
   "source": [
    "# qs[숫자인덱스]\n",
    "# 모델객체 혹은 예외 발생 (IndexError)"
   ]
  },
  {
   "cell_type": "code",
   "execution_count": 69,
   "id": "9cac6906",
   "metadata": {},
   "outputs": [
    {
     "data": {
      "text/plain": [
       "<Post: hello>"
      ]
     },
     "execution_count": 69,
     "metadata": {},
     "output_type": "execute_result"
    }
   ],
   "source": [
    "qs.first()"
   ]
  },
  {
   "cell_type": "code",
   "execution_count": 70,
   "id": "e3fd412f",
   "metadata": {},
   "outputs": [
    {
     "data": {
      "text/plain": [
       "2"
      ]
     },
     "execution_count": 70,
     "metadata": {},
     "output_type": "execute_result"
    }
   ],
   "source": [
    "len(qs)"
   ]
  },
  {
   "cell_type": "code",
   "execution_count": 71,
   "id": "296e11aa",
   "metadata": {},
   "outputs": [
    {
     "data": {
      "text/plain": [
       "{'model': blog.models.Post,\n",
       " '_db': None,\n",
       " '_hints': {},\n",
       " '_query': <django.db.models.sql.query.Query at 0x7fe9095102e0>,\n",
       " '_result_cache': [<Post: hello>, <Post: hello>],\n",
       " '_sticky_filter': False,\n",
       " '_for_write': False,\n",
       " '_prefetch_related_lookups': (),\n",
       " '_prefetch_done': False,\n",
       " '_known_related_objects': {},\n",
       " '_iterable_class': django.db.models.query.ModelIterable,\n",
       " '_fields': None,\n",
       " '_defer_next_filter': False,\n",
       " '_deferred_filter': None}"
      ]
     },
     "execution_count": 71,
     "metadata": {},
     "output_type": "execute_result"
    }
   ],
   "source": [
    "qs.__dict__"
   ]
  },
  {
   "cell_type": "code",
   "execution_count": 72,
   "id": "ec96d71b",
   "metadata": {},
   "outputs": [
    {
     "ename": "TypeError",
     "evalue": "Cannot reverse a query once a slice has been taken.",
     "output_type": "error",
     "traceback": [
      "\u001b[0;31m---------------------------------------------------------------------------\u001b[0m",
      "\u001b[0;31mTypeError\u001b[0m                                 Traceback (most recent call last)",
      "Input \u001b[0;32mIn [72]\u001b[0m, in \u001b[0;36m<cell line: 1>\u001b[0;34m()\u001b[0m\n\u001b[0;32m----> 1\u001b[0m \u001b[43mqs\u001b[49m\u001b[38;5;241;43m.\u001b[39;49m\u001b[43mlast\u001b[49m\u001b[43m(\u001b[49m\u001b[43m)\u001b[49m\n",
      "File \u001b[0;32m~/Documents/GitHub/django_commento/django_assignments/week4/venv/lib/python3.8/site-packages/django/db/models/query.py:687\u001b[0m, in \u001b[0;36mQuerySet.last\u001b[0;34m(self)\u001b[0m\n\u001b[1;32m    685\u001b[0m \u001b[38;5;28;01mdef\u001b[39;00m \u001b[38;5;21mlast\u001b[39m(\u001b[38;5;28mself\u001b[39m):\n\u001b[1;32m    686\u001b[0m     \u001b[38;5;124;03m\"\"\"Return the last object of a query or None if no match is found.\"\"\"\u001b[39;00m\n\u001b[0;32m--> 687\u001b[0m     \u001b[38;5;28;01mfor\u001b[39;00m obj \u001b[38;5;129;01min\u001b[39;00m (\u001b[38;5;28;43mself\u001b[39;49m\u001b[38;5;241;43m.\u001b[39;49m\u001b[43mreverse\u001b[49m\u001b[43m(\u001b[49m\u001b[43m)\u001b[49m \u001b[38;5;28;01mif\u001b[39;00m \u001b[38;5;28mself\u001b[39m\u001b[38;5;241m.\u001b[39mordered \u001b[38;5;28;01melse\u001b[39;00m \u001b[38;5;28mself\u001b[39m\u001b[38;5;241m.\u001b[39morder_by(\u001b[38;5;124m'\u001b[39m\u001b[38;5;124m-pk\u001b[39m\u001b[38;5;124m'\u001b[39m))[:\u001b[38;5;241m1\u001b[39m]:\n\u001b[1;32m    688\u001b[0m         \u001b[38;5;28;01mreturn\u001b[39;00m obj\n",
      "File \u001b[0;32m~/Documents/GitHub/django_commento/django_assignments/week4/venv/lib/python3.8/site-packages/django/db/models/query.py:1207\u001b[0m, in \u001b[0;36mQuerySet.reverse\u001b[0;34m(self)\u001b[0m\n\u001b[1;32m   1205\u001b[0m \u001b[38;5;124;03m\"\"\"Reverse the ordering of the QuerySet.\"\"\"\u001b[39;00m\n\u001b[1;32m   1206\u001b[0m \u001b[38;5;28;01mif\u001b[39;00m \u001b[38;5;28mself\u001b[39m\u001b[38;5;241m.\u001b[39mquery\u001b[38;5;241m.\u001b[39mis_sliced:\n\u001b[0;32m-> 1207\u001b[0m     \u001b[38;5;28;01mraise\u001b[39;00m \u001b[38;5;167;01mTypeError\u001b[39;00m(\u001b[38;5;124m'\u001b[39m\u001b[38;5;124mCannot reverse a query once a slice has been taken.\u001b[39m\u001b[38;5;124m'\u001b[39m)\n\u001b[1;32m   1208\u001b[0m clone \u001b[38;5;241m=\u001b[39m \u001b[38;5;28mself\u001b[39m\u001b[38;5;241m.\u001b[39m_chain()\n\u001b[1;32m   1209\u001b[0m clone\u001b[38;5;241m.\u001b[39mquery\u001b[38;5;241m.\u001b[39mstandard_ordering \u001b[38;5;241m=\u001b[39m \u001b[38;5;129;01mnot\u001b[39;00m clone\u001b[38;5;241m.\u001b[39mquery\u001b[38;5;241m.\u001b[39mstandard_ordering\n",
      "\u001b[0;31mTypeError\u001b[0m: Cannot reverse a query once a slice has been taken."
     ]
    }
   ],
   "source": [
    "qs.last()"
   ]
  },
  {
   "cell_type": "code",
   "execution_count": 95,
   "id": "c25426eb",
   "metadata": {},
   "outputs": [],
   "source": [
    "query = \"Hello\"\n",
    "qs = Post.objects.filter(content__icontains=query)\\\n",
    "    .order_by('-id')"
   ]
  },
  {
   "cell_type": "code",
   "execution_count": 81,
   "id": "59cbf12c",
   "metadata": {},
   "outputs": [
    {
     "data": {
      "text/plain": [
       "<QuerySet [<Post: hello>, <Post: hello>]>"
      ]
     },
     "execution_count": 81,
     "metadata": {},
     "output_type": "execute_result"
    }
   ],
   "source": [
    "qs"
   ]
  },
  {
   "cell_type": "code",
   "execution_count": 84,
   "id": "4e3e3514",
   "metadata": {},
   "outputs": [
    {
     "name": "stdout",
     "output_type": "stream",
     "text": [
      "q.content: HELLO, id: 12\n",
      "q.content: hello, id: 11\n"
     ]
    }
   ],
   "source": [
    "for q in qs:\n",
    "    print(f\"q.content: {q.content}, id: {q.id}\")"
   ]
  },
  {
   "cell_type": "code",
   "execution_count": 112,
   "id": "7c3177b4",
   "metadata": {},
   "outputs": [],
   "source": [
    "from django.db.models import Q\n",
    "query = \"Hello\"\n",
    "qs = Post.objects.filter(content__icontains=query)\\\n",
    "    .order_by('-id')\n",
    "\n",
    "or_cond = Q(id__gte=12) | Q(content__icontains=query)\n",
    "\n",
    "# qs = qs.filter(id__gte=12, content__icontains=query)"
   ]
  },
  {
   "cell_type": "code",
   "execution_count": 113,
   "id": "ac9d84f9",
   "metadata": {},
   "outputs": [],
   "source": [
    "qs = qs.filter(or_cond)"
   ]
  },
  {
   "cell_type": "code",
   "execution_count": 114,
   "id": "654c67f9",
   "metadata": {},
   "outputs": [
    {
     "name": "stdout",
     "output_type": "stream",
     "text": [
      "12\n",
      "11\n"
     ]
    }
   ],
   "source": [
    "for q in qs:\n",
    "    print(q.id)"
   ]
  },
  {
   "cell_type": "code",
   "execution_count": 115,
   "id": "acaba366",
   "metadata": {},
   "outputs": [
    {
     "name": "stdout",
     "output_type": "stream",
     "text": [
      "12\n"
     ]
    }
   ],
   "source": [
    "cond = Q(id__gte=12) & Q(content__icontains=query)\n",
    "qs = qs.filter(cond)\n",
    "for q in qs:\n",
    "    print(q.id)"
   ]
  },
  {
   "cell_type": "code",
   "execution_count": null,
   "id": "2bb6c52f",
   "metadata": {},
   "outputs": [],
   "source": []
  }
 ],
 "metadata": {
  "kernelspec": {
   "display_name": "Python 3 (ipykernel)",
   "language": "python",
   "name": "python3"
  },
  "language_info": {
   "codemirror_mode": {
    "name": "ipython",
    "version": 3
   },
   "file_extension": ".py",
   "mimetype": "text/x-python",
   "name": "python",
   "nbconvert_exporter": "python",
   "pygments_lexer": "ipython3",
   "version": "3.8.10"
  }
 },
 "nbformat": 4,
 "nbformat_minor": 5
}
